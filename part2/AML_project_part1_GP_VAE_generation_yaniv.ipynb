{
  "nbformat": 4,
  "nbformat_minor": 0,
  "metadata": {
    "colab": {
      "name": "AML project part1 - GP_VAE_generation_yaniv.ipynb",
      "provenance": [],
      "collapsed_sections": [],
      "machine_shape": "hm"
    },
    "kernelspec": {
      "name": "python3",
      "display_name": "Python 3"
    },
    "language_info": {
      "name": "python"
    },
    "accelerator": "GPU",
    "gpuClass": "standard"
  },
  "cells": [
    {
      "cell_type": "markdown",
      "source": [
        "# Reproduce GP-VAE\n",
        "## Instructions for use:\n",
        "1. Clone our GP-VAE repo (**Add link here**) to your google drive\n",
        "2. Place this notebook in your google drive\n",
        "3. Update the ROOT_PATH to the repo folder in your g drive\n",
        "4. **Only for the first time you run on a colab host**: perform initial installations and fixes:\n",
        "  * Un-Comment code cell 2\n",
        "  * Execute code cells 1, 2 \n",
        "  * Comment cell 2 back\n",
        "  * Restart the host\n",
        "5. Run the notebook\n",
        "\n",
        "**Note**: The train / test outputs (model, results) will be copied into the repository clone under 'model' folder in the end, as intended by the original writers."
      ],
      "metadata": {
        "id": "IvAhUzMhgA38"
      }
    },
    {
      "cell_type": "code",
      "execution_count": null,
      "metadata": {
        "colab": {
          "base_uri": "https://localhost:8080/"
        },
        "id": "WjLpdDbq8J2L",
        "outputId": "df045b7f-3026-4b9c-89dd-1b14cc6afd25"
      },
      "outputs": [
        {
          "output_type": "stream",
          "name": "stdout",
          "text": [
            "Mounted at /content/drive\n"
          ]
        }
      ],
      "source": [
        "import time\n",
        "from pathlib import Path\n",
        "from google.colab import drive\n",
        "\n",
        "# Google Drive linkage\n",
        "drive.mount('/content/drive')\n",
        "DRIVE_ROOT_DIR = Path('/content/drive/MyDrive/colab_data/aml_project/gp_vae_for_data_generation')\n",
        "DRIVE_DATA_DIR = Path('/content/drive/MyDrive/colab_data/aml_project/data/hmnist_full.npz')\n",
        "\n",
        "# copy code to colab host\n",
        "!cp -R $DRIVE_ROOT_DIR/* .\n",
        "!ls -la $ROOT_DIR"
      ]
    },
    {
      "cell_type": "code",
      "source": [
        "# Run one time only, then comment and restart the host\n",
        "\n",
        "# !pip install -r requirements.txt"
      ],
      "metadata": {
        "id": "onWfpZNxcXlm"
      },
      "execution_count": null,
      "outputs": []
    },
    {
      "cell_type": "markdown",
      "source": [
        "## Train model"
      ],
      "metadata": {
        "id": "PrXv5V5EI7IH"
      }
    },
    {
      "cell_type": "code",
      "source": [
        "# Create output folders for this run\n",
        "\n",
        "# Relative paths - correct both for drive and for local (Colab) VM\n",
        "datetime = time.strftime(\"%Y%m%d-%H%M%S\")\n",
        "OUTPUTS_DIR = Path(f'outputs/{datetime}')\n",
        "DRIVE_OUTPUTS_DIR = DRIVE_ROOT_DIR / OUTPUTS_DIR\n",
        "\n",
        "# Create output folders on local (Colab) VM\n",
        "Path(OUTPUTS_DIR).mkdir(parents=True, exist_ok=True)\n",
        "print(f'OUTPUTS_DIR = {OUTPUTS_DIR}, exists = {Path.exists(OUTPUTS_DIR)}')\n",
        "\n",
        "Path(DRIVE_OUTPUTS_DIR).mkdir(parents=True, exist_ok=True)\n",
        "print(f'DRIVE_OUTPUTS_DIR = {DRIVE_OUTPUTS_DIR}, exists = {Path.exists(DRIVE_OUTPUTS_DIR)}')"
      ],
      "metadata": {
        "id": "nx0cg57qnIH9"
      },
      "execution_count": null,
      "outputs": []
    },
    {
      "cell_type": "code",
      "source": [
        "# #Train on limited dataset\n",
        "SAMPLES_PER_DIGIT = 500\n",
        "NUM_EPOCHS = 25\n",
        "WHITE_FLIP_RATIO = 0.6\n",
        "BLACK_FLIP_RATIO = 0.8\n",
        "\n",
        "!python train.py --model_type gp-vae --seed 123 --data_type hmnist --banded_covar --latent_dim 256 --encoder_sizes=256,256 --decoder_sizes=256,256,256 --window_size 3 --sigma 1 --length_scale 2 --beta 0.8 --num_epochs $NUM_EPOCHS --train_class_number $SAMPLES_PER_DIGIT --data_dir $DRIVE_DATA_DIR --base_dir $OUTPUTS_DIR --black_flip_ratio $BLACK_FLIP_RATIO --white_flip_ratio $WHITE_FLIP_RATIO"
      ],
      "metadata": {
        "id": "VegyQpEW9ZQT"
      },
      "execution_count": null,
      "outputs": []
    },
    {
      "cell_type": "code",
      "source": [
        "# Copy trained models back to drive\n",
        "!cp -R $OUTPUTS_DIR/* $DRIVE_OUTPUTS_DIR\n",
        "print(f'DRIVE_OUTPUTS_DIR = {DRIVE_OUTPUTS_DIR}')\n",
        "!ls -la $DRIVE_OUTPUTS_DIR\n"
      ],
      "metadata": {
        "id": "Se5Ggzi2Q4NS"
      },
      "execution_count": null,
      "outputs": []
    },
    {
      "cell_type": "markdown",
      "source": [
        "## Generate new samples based on the dataset used in train and the model"
      ],
      "metadata": {
        "id": "ajfeYCM0I_zL"
      }
    },
    {
      "cell_type": "code",
      "source": [
        "#Train on limited dataset\n",
        "WHITE_FLIP_RATIO = 0.6\n",
        "BLACK_FLIP_RATIO = 0.8\n",
        "\n",
        "!python generate.py --model_type gp-vae --data_type hmnist --seed 123 --testing --banded_covar --latent_dim 256 --encoder_sizes=256,256 --decoder_sizes=256,256,256 --window_size 3 --sigma 1 --length_scale 2 --beta 0.8 --num_epochs 20 --base_dir $OUTPUTS_DIR --black_flip_ratio $BLACK_FLIP_RATIO --white_flip_ratio $WHITE_FLIP_RATIO"
      ],
      "metadata": {
        "id": "c6bvmGNwIxGW"
      },
      "execution_count": null,
      "outputs": []
    },
    {
      "cell_type": "code",
      "source": [
        "# Copy trained models back to drive\n",
        "!cp -R $OUTPUTS_DIR/generated_data $DRIVE_OUTPUTS_DIR\n",
        "print(f'DRIVE_OUTPUTS_DIR = {DRIVE_OUTPUTS_DIR}')\n",
        "!ls -la $DRIVE_OUTPUTS_DIR/generated_data\n",
        "\n"
      ],
      "metadata": {
        "id": "7m2_pd0INqMT"
      },
      "execution_count": null,
      "outputs": []
    }
  ]
}