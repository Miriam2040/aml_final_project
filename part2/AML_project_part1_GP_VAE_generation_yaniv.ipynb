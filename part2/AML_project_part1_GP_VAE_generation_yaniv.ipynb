{
  "nbformat": 4,
  "nbformat_minor": 0,
  "metadata": {
    "colab": {
      "name": "AML project part1 - GP_VAE_generation_yaniv.ipynb",
      "provenance": [],
      "collapsed_sections": [],
      "machine_shape": "hm"
    },
    "kernelspec": {
      "name": "python3",
      "display_name": "Python 3"
    },
    "language_info": {
      "name": "python"
    },
    "accelerator": "GPU",
    "gpuClass": "standard"
  },
  "cells": [
    {
      "cell_type": "markdown",
      "source": [
        "# Reproduce GP-VAE\n",
        "## Instructions for use:\n",
        "1. Clone our GP-VAE repo (**Add link here**) to your google drive\n",
        "2. Place this notebook in your google drive\n",
        "3. Update the ROOT_PATH to the repo folder in your g drive\n",
        "4. **Only for the first time you run on a colab host**: perform initial installations and fixes:\n",
        "  * Un-Comment code cell 2\n",
        "  * Execute code cells 1, 2 \n",
        "  * Comment cell 2 back\n",
        "  * Restart the host\n",
        "5. Run the notebook\n",
        "\n",
        "**Note**: The train / test outputs (model, results) will be copied into the repository clone under 'model' folder in the end, as intended by the original writers."
      ],
      "metadata": {
        "id": "IvAhUzMhgA38"
      }
    },
    {
      "cell_type": "code",
      "execution_count": 8,
      "metadata": {
        "colab": {
          "base_uri": "https://localhost:8080/"
        },
        "id": "WjLpdDbq8J2L",
        "outputId": "b2591d62-f90c-49e7-f3fb-c8a50a703b18"
      },
      "outputs": [
        {
          "output_type": "stream",
          "name": "stdout",
          "text": [
            "Drive already mounted at /content/drive; to attempt to forcibly remount, call drive.mount(\"/content/drive\", force_remount=True).\n",
            "OUTPUTS_DIR = outputs/20220812-204006, exists = True\n",
            "DRIVE_OUTPUTS_DIR = /content/drive/MyDrive/colab_data/aml_project/gp_vae_for_data_generation/outputs/20220812-204006, exists = True\n",
            "total 100\n",
            "drwxr-xr-x 1 root root  4096 Aug 12 20:07 .\n",
            "drwxr-xr-x 1 root root  4096 Aug 12 19:46 ..\n",
            "drwxr-xr-x 4 root root  4096 Aug  3 20:20 .config\n",
            "drwx------ 3 root root  4096 Aug 12 20:07 data\n",
            "drwx------ 5 root root  4096 Aug 12 20:06 drive\n",
            "drwx------ 2 root root  4096 Aug 12 20:06 figures\n",
            "-rw------- 1 root root 11860 Aug 12 20:40 generate.py\n",
            "drwx------ 3 root root  4096 Aug 12 20:06 lib\n",
            "-rw------- 1 root root  1087 Aug 12 20:40 LICENSE\n",
            "drwxr-xr-x 6 root root  4096 Aug 12 20:40 outputs\n",
            "drwx------ 2 root root  4096 Aug 12 20:36 __pycache__\n",
            "-rw------- 1 root root  2364 Aug 12 20:40 README.md\n",
            "-rw------- 1 root root   146 Aug 12 20:40 requirements.txt\n",
            "drwxr-xr-x 1 root root  4096 Aug  3 20:21 sample_data\n",
            "-rw------- 1 root root 26865 Aug 12 20:40 train.py\n",
            "drwx------ 2 root root  4096 Aug 12 20:07 utils\n",
            "-rw------- 1 root root  1658 Aug 12 20:40 utils.py\n"
          ]
        }
      ],
      "source": [
        "import time\n",
        "from pathlib import Path\n",
        "from google.colab import drive\n",
        "\n",
        "# Google Drive linkage\n",
        "drive.mount('/content/drive')\n",
        "DRIVE_ROOT_DIR = Path('/content/drive/MyDrive/colab_data/aml_project/gp_vae_for_data_generation')\n",
        "\n",
        "# Relative paths - correct both for drive and for local (Colab) VM\n",
        "datetime = time.strftime(\"%Y%m%d-%H%M%S\")\n",
        "OUTPUTS_DIR = Path(f'outputs/{datetime}')\n",
        "DRIVE_OUTPUTS_DIR = DRIVE_ROOT_DIR / OUTPUTS_DIR\n",
        "\n",
        "# Create output folders on local (Colab) VM\n",
        "Path(OUTPUTS_DIR).mkdir(parents=True, exist_ok=True)\n",
        "print(f'OUTPUTS_DIR = {OUTPUTS_DIR}, exists = {Path.exists(OUTPUTS_DIR)}')\n",
        "\n",
        "Path(DRIVE_OUTPUTS_DIR).mkdir(parents=True, exist_ok=True)\n",
        "print(f'DRIVE_OUTPUTS_DIR = {DRIVE_OUTPUTS_DIR}, exists = {Path.exists(DRIVE_OUTPUTS_DIR)}')\n",
        "\n",
        "# copy code to colab host\n",
        "!cp -R $DRIVE_ROOT_DIR/* .\n",
        "\n",
        "!ls -la $ROOT_DIR"
      ]
    },
    {
      "cell_type": "markdown",
      "source": [
        "### Run the below cell only once per new host in Colab, then comment it out."
      ],
      "metadata": {
        "id": "0JfOmYx5g_74"
      }
    },
    {
      "cell_type": "code",
      "source": [
        "# # Run this cell once for a new host, then comment this cell, restart the host, and rerun all\n",
        "# #---------------------------------------------------------------------------------\n",
        "\n",
        "# # copy code to colab host\n",
        "# !cp -R $DRIVE_ROOT_DIR/* .\n",
        "\n",
        "# # Update data download scripts\n",
        "# !sudo apt-get install dos2unix\n",
        "# !dos2unix data/*.sh\n",
        "# !chmod +x data/*.sh\n",
        "# !ls -la data\n",
        "\n",
        "# # reinstall old packages for old code\n",
        "# !pip install -r requirements.txt\n",
        "\n",
        "# # Download dataset for hmnist\n",
        "# !data/load_hmnist.sh\n"
      ],
      "metadata": {
        "id": "Sxfzj6mC_-78"
      },
      "execution_count": 9,
      "outputs": []
    },
    {
      "cell_type": "markdown",
      "source": [
        "## Train model"
      ],
      "metadata": {
        "id": "PrXv5V5EI7IH"
      }
    },
    {
      "cell_type": "code",
      "source": [
        "#Train on limited dataset\n",
        "SAMPLES_PER_DIGIT = 500\n",
        "!python train.py --model_type gp-vae --data_type hmnist --exp_name reproduce_hmnist --seed 111 --testing --banded_covar --latent_dim 256 --encoder_sizes=256,256 --decoder_sizes=256,256,256 --window_size 3 --sigma 1 --length_scale 2 --beta 0.8 --num_epochs 20  --train_class_number $SAMPLES_PER_DIGIT --base_dir $OUTPUTS_DIR\n"
      ],
      "metadata": {
        "colab": {
          "base_uri": "https://localhost:8080/"
        },
        "id": "VegyQpEW9ZQT",
        "outputId": "80245e92-acfe-42b6-d17b-4d0bb2bf4f70"
      },
      "execution_count": null,
      "outputs": [
        {
          "output_type": "stream",
          "name": "stdout",
          "text": [
            "Testing:  True \t Seed: 111\n",
            "Full exp name:  outputs/20220812-204006/model\n",
            "tcmalloc: large alloc 1881604096 bytes == 0x6174000 @  0x7ff07ec7a1e7 0x7ff07b70fcf1 0x7ff07b7747c8 0x7ff07b7134f1 0x5947d6 0x548cc1 0x5127f1 0x549576 0x593fce 0x548ae9 0x5127f1 0x4bc98a 0x533274 0x4d3969 0x512147 0x549e0e 0x593fce 0x5118f8 0x593dd7 0x5118f8 0x549576 0x593fce 0x548ae9 0x51566f 0x549576 0x604173 0x5f5506 0x5f8c6c 0x5f9206 0x64faf2 0x64fc4e\n",
            "tcmalloc: large alloc 1881604096 bytes == 0x76424000 @  0x7ff07ec7a1e7 0x7ff07b70fcf1 0x7ff07b7747c8 0x7ff07b7134f1 0x5947d6 0x548cc1 0x5127f1 0x549576 0x593fce 0x548ae9 0x5127f1 0x4bc98a 0x533274 0x4d3969 0x512147 0x549e0e 0x593fce 0x5118f8 0x593dd7 0x5118f8 0x549576 0x593fce 0x548ae9 0x51566f 0x549576 0x604173 0x5f5506 0x5f8c6c 0x5f9206 0x64faf2 0x64fc4e\n",
            "tcmalloc: large alloc 1881604096 bytes == 0xe6694000 @  0x7ff07ec7a1e7 0x7ff07b70fcf1 0x7ff07b7747c8 0x7ff07b7134f1 0x5947d6 0x548cc1 0x5127f1 0x549576 0x593fce 0x548ae9 0x5127f1 0x4bc98a 0x533274 0x4d3969 0x512147 0x549e0e 0x593fce 0x5118f8 0x593dd7 0x5118f8 0x549576 0x593fce 0x548ae9 0x51566f 0x549576 0x604173 0x5f5506 0x5f8c6c 0x5f9206 0x64faf2 0x64fc4e\n",
            "5000\n",
            "2022-08-12 20:40:56.808349: I tensorflow/stream_executor/platform/default/dso_loader.cc:44] Successfully opened dynamic library libcuda.so.1\n",
            "2022-08-12 20:40:56.927901: I tensorflow/stream_executor/cuda/cuda_gpu_executor.cc:983] successful NUMA node read from SysFS had negative value (-1), but there must be at least one NUMA node, so returning NUMA node zero\n",
            "2022-08-12 20:40:56.928500: I tensorflow/core/common_runtime/gpu/gpu_device.cc:1618] Found device 0 with properties: \n",
            "name: Tesla T4 major: 7 minor: 5 memoryClockRate(GHz): 1.59\n",
            "pciBusID: 0000:00:04.0\n",
            "2022-08-12 20:40:56.936738: I tensorflow/stream_executor/platform/default/dso_loader.cc:44] Successfully opened dynamic library libcudart.so.10.0\n",
            "2022-08-12 20:40:57.185454: I tensorflow/stream_executor/platform/default/dso_loader.cc:44] Successfully opened dynamic library libcublas.so.10.0\n",
            "2022-08-12 20:40:57.256961: I tensorflow/stream_executor/platform/default/dso_loader.cc:44] Successfully opened dynamic library libcufft.so.10.0\n",
            "2022-08-12 20:40:57.277213: I tensorflow/stream_executor/platform/default/dso_loader.cc:44] Successfully opened dynamic library libcurand.so.10.0\n",
            "2022-08-12 20:40:57.469060: I tensorflow/stream_executor/platform/default/dso_loader.cc:44] Successfully opened dynamic library libcusolver.so.10.0\n",
            "2022-08-12 20:40:57.584913: I tensorflow/stream_executor/platform/default/dso_loader.cc:44] Successfully opened dynamic library libcusparse.so.10.0\n",
            "2022-08-12 20:40:57.973649: I tensorflow/stream_executor/platform/default/dso_loader.cc:44] Successfully opened dynamic library libcudnn.so.7\n",
            "2022-08-12 20:40:57.973845: I tensorflow/stream_executor/cuda/cuda_gpu_executor.cc:983] successful NUMA node read from SysFS had negative value (-1), but there must be at least one NUMA node, so returning NUMA node zero\n",
            "2022-08-12 20:40:57.974539: I tensorflow/stream_executor/cuda/cuda_gpu_executor.cc:983] successful NUMA node read from SysFS had negative value (-1), but there must be at least one NUMA node, so returning NUMA node zero\n",
            "2022-08-12 20:40:57.975058: I tensorflow/core/common_runtime/gpu/gpu_device.cc:1746] Adding visible gpu devices: 0\n",
            "2022-08-12 20:40:57.991811: I tensorflow/core/platform/cpu_feature_guard.cc:142] Your CPU supports instructions that this TensorFlow binary was not compiled to use: AVX2 FMA\n",
            "2022-08-12 20:40:58.081149: I tensorflow/core/platform/profile_utils/cpu_utils.cc:94] CPU Frequency: 2199995000 Hz\n",
            "2022-08-12 20:40:58.090822: I tensorflow/compiler/xla/service/service.cc:168] XLA service 0x1ce0a00 initialized for platform Host (this does not guarantee that XLA will be used). Devices:\n",
            "2022-08-12 20:40:58.090861: I tensorflow/compiler/xla/service/service.cc:176]   StreamExecutor device (0): Host, Default Version\n",
            "2022-08-12 20:40:58.359151: I tensorflow/stream_executor/cuda/cuda_gpu_executor.cc:983] successful NUMA node read from SysFS had negative value (-1), but there must be at least one NUMA node, so returning NUMA node zero\n",
            "2022-08-12 20:40:58.361537: I tensorflow/compiler/xla/service/service.cc:168] XLA service 0x1ce0840 initialized for platform CUDA (this does not guarantee that XLA will be used). Devices:\n",
            "2022-08-12 20:40:58.361576: I tensorflow/compiler/xla/service/service.cc:176]   StreamExecutor device (0): Tesla T4, Compute Capability 7.5\n",
            "2022-08-12 20:40:58.361803: I tensorflow/stream_executor/cuda/cuda_gpu_executor.cc:983] successful NUMA node read from SysFS had negative value (-1), but there must be at least one NUMA node, so returning NUMA node zero\n",
            "2022-08-12 20:40:58.362348: I tensorflow/core/common_runtime/gpu/gpu_device.cc:1618] Found device 0 with properties: \n",
            "name: Tesla T4 major: 7 minor: 5 memoryClockRate(GHz): 1.59\n",
            "pciBusID: 0000:00:04.0\n",
            "2022-08-12 20:40:58.362428: I tensorflow/stream_executor/platform/default/dso_loader.cc:44] Successfully opened dynamic library libcudart.so.10.0\n",
            "2022-08-12 20:40:58.362448: I tensorflow/stream_executor/platform/default/dso_loader.cc:44] Successfully opened dynamic library libcublas.so.10.0\n",
            "2022-08-12 20:40:58.362468: I tensorflow/stream_executor/platform/default/dso_loader.cc:44] Successfully opened dynamic library libcufft.so.10.0\n",
            "2022-08-12 20:40:58.362499: I tensorflow/stream_executor/platform/default/dso_loader.cc:44] Successfully opened dynamic library libcurand.so.10.0\n",
            "2022-08-12 20:40:58.362524: I tensorflow/stream_executor/platform/default/dso_loader.cc:44] Successfully opened dynamic library libcusolver.so.10.0\n",
            "2022-08-12 20:40:58.362543: I tensorflow/stream_executor/platform/default/dso_loader.cc:44] Successfully opened dynamic library libcusparse.so.10.0\n",
            "2022-08-12 20:40:58.362562: I tensorflow/stream_executor/platform/default/dso_loader.cc:44] Successfully opened dynamic library libcudnn.so.7\n",
            "2022-08-12 20:40:58.362633: I tensorflow/stream_executor/cuda/cuda_gpu_executor.cc:983] successful NUMA node read from SysFS had negative value (-1), but there must be at least one NUMA node, so returning NUMA node zero\n",
            "2022-08-12 20:40:58.363182: I tensorflow/stream_executor/cuda/cuda_gpu_executor.cc:983] successful NUMA node read from SysFS had negative value (-1), but there must be at least one NUMA node, so returning NUMA node zero\n",
            "2022-08-12 20:40:58.363690: I tensorflow/core/common_runtime/gpu/gpu_device.cc:1746] Adding visible gpu devices: 0\n",
            "2022-08-12 20:40:58.367021: I tensorflow/stream_executor/platform/default/dso_loader.cc:44] Successfully opened dynamic library libcudart.so.10.0\n",
            "2022-08-12 20:40:58.368317: I tensorflow/core/common_runtime/gpu/gpu_device.cc:1159] Device interconnect StreamExecutor with strength 1 edge matrix:\n",
            "2022-08-12 20:40:58.368346: I tensorflow/core/common_runtime/gpu/gpu_device.cc:1165]      0 \n",
            "2022-08-12 20:40:58.368357: I tensorflow/core/common_runtime/gpu/gpu_device.cc:1178] 0:   N \n",
            "2022-08-12 20:40:58.374723: I tensorflow/stream_executor/cuda/cuda_gpu_executor.cc:983] successful NUMA node read from SysFS had negative value (-1), but there must be at least one NUMA node, so returning NUMA node zero\n",
            "2022-08-12 20:40:58.377396: I tensorflow/stream_executor/cuda/cuda_gpu_executor.cc:983] successful NUMA node read from SysFS had negative value (-1), but there must be at least one NUMA node, so returning NUMA node zero\n",
            "2022-08-12 20:40:58.380254: W tensorflow/core/common_runtime/gpu/gpu_bfc_allocator.cc:39] Overriding allow_growth setting because the TF_FORCE_GPU_ALLOW_GROWTH environment variable is set. Original config value was 0.\n",
            "2022-08-12 20:40:58.380314: I tensorflow/core/common_runtime/gpu/gpu_device.cc:1304] Created TensorFlow device (/job:localhost/replica:0/task:0/device:GPU:0 with 14257 MB memory) -> physical GPU (device: 0, name: Tesla T4, pci bus id: 0000:00:04.0, compute capability: 7.5)\n",
            "W0812 20:41:02.263888 140670900283264 deprecation.py:323] From /usr/local/lib/python3.7/dist-packages/tensorflow_core/python/data/util/random_seed.py:58: where (from tensorflow.python.ops.array_ops) is deprecated and will be removed in a future version.\n",
            "Instructions for updating:\n",
            "Use tf.where in 2.0, which has the same broadcast rule as np.where\n",
            "2022-08-12 20:41:02.289705: W tensorflow/core/framework/cpu_allocator_impl.cc:81] Allocation of 313600000 exceeds 10% of system memory.\n",
            "2022-08-12 20:41:02.444206: W tensorflow/core/framework/cpu_allocator_impl.cc:81] Allocation of 627200000 exceeds 10% of system memory.\n",
            "Using CNN preprocessor\n",
            "2022-08-12 20:41:02.723496: I tensorflow/stream_executor/cuda/cuda_gpu_executor.cc:983] successful NUMA node read from SysFS had negative value (-1), but there must be at least one NUMA node, so returning NUMA node zero\n",
            "2022-08-12 20:41:02.724067: I tensorflow/core/common_runtime/gpu/gpu_device.cc:1618] Found device 0 with properties: \n",
            "name: Tesla T4 major: 7 minor: 5 memoryClockRate(GHz): 1.59\n",
            "pciBusID: 0000:00:04.0\n",
            "2022-08-12 20:41:02.724142: I tensorflow/stream_executor/platform/default/dso_loader.cc:44] Successfully opened dynamic library libcudart.so.10.0\n",
            "2022-08-12 20:41:02.724164: I tensorflow/stream_executor/platform/default/dso_loader.cc:44] Successfully opened dynamic library libcublas.so.10.0\n",
            "2022-08-12 20:41:02.724184: I tensorflow/stream_executor/platform/default/dso_loader.cc:44] Successfully opened dynamic library libcufft.so.10.0\n",
            "2022-08-12 20:41:02.724204: I tensorflow/stream_executor/platform/default/dso_loader.cc:44] Successfully opened dynamic library libcurand.so.10.0\n",
            "2022-08-12 20:41:02.724227: I tensorflow/stream_executor/platform/default/dso_loader.cc:44] Successfully opened dynamic library libcusolver.so.10.0\n",
            "2022-08-12 20:41:02.724246: I tensorflow/stream_executor/platform/default/dso_loader.cc:44] Successfully opened dynamic library libcusparse.so.10.0\n",
            "2022-08-12 20:41:02.724266: I tensorflow/stream_executor/platform/default/dso_loader.cc:44] Successfully opened dynamic library libcudnn.so.7\n",
            "2022-08-12 20:41:02.724350: I tensorflow/stream_executor/cuda/cuda_gpu_executor.cc:983] successful NUMA node read from SysFS had negative value (-1), but there must be at least one NUMA node, so returning NUMA node zero\n",
            "2022-08-12 20:41:02.724925: I tensorflow/stream_executor/cuda/cuda_gpu_executor.cc:983] successful NUMA node read from SysFS had negative value (-1), but there must be at least one NUMA node, so returning NUMA node zero\n",
            "2022-08-12 20:41:02.725420: I tensorflow/core/common_runtime/gpu/gpu_device.cc:1746] Adding visible gpu devices: 0\n",
            "2022-08-12 20:41:02.725461: I tensorflow/core/common_runtime/gpu/gpu_device.cc:1159] Device interconnect StreamExecutor with strength 1 edge matrix:\n",
            "2022-08-12 20:41:02.725474: I tensorflow/core/common_runtime/gpu/gpu_device.cc:1165]      0 \n",
            "2022-08-12 20:41:02.725493: I tensorflow/core/common_runtime/gpu/gpu_device.cc:1178] 0:   N \n",
            "2022-08-12 20:41:02.725594: I tensorflow/stream_executor/cuda/cuda_gpu_executor.cc:983] successful NUMA node read from SysFS had negative value (-1), but there must be at least one NUMA node, so returning NUMA node zero\n",
            "2022-08-12 20:41:02.726224: I tensorflow/stream_executor/cuda/cuda_gpu_executor.cc:983] successful NUMA node read from SysFS had negative value (-1), but there must be at least one NUMA node, so returning NUMA node zero\n",
            "2022-08-12 20:41:02.726769: I tensorflow/core/common_runtime/gpu/gpu_device.cc:1304] Created TensorFlow device (/device:GPU:0 with 14257 MB memory) -> physical GPU (device: 0, name: Tesla T4, pci bus id: 0000:00:04.0, compute capability: 7.5)\n",
            "GPU support:  True\n",
            "Training...\n",
            "2022-08-12 20:41:02.803405: I tensorflow/core/kernels/cuda_solvers.cc:159] Creating CudaSolver handles for stream 0x5a8f5ad0\n",
            "2022-08-12 20:41:02.803990: I tensorflow/stream_executor/platform/default/dso_loader.cc:44] Successfully opened dynamic library libcusolver.so.10.0\n",
            "2022-08-12 20:41:03.975041: I tensorflow/stream_executor/platform/default/dso_loader.cc:44] Successfully opened dynamic library libcublas.so.10.0\n",
            "2022-08-12 20:41:04.767827: I tensorflow/stream_executor/platform/default/dso_loader.cc:44] Successfully opened dynamic library libcudnn.so.7\n"
          ]
        }
      ]
    },
    {
      "cell_type": "code",
      "source": [
        "# Copy trained models back to drive\n",
        "!cp -R $OUTPUTS_DIR/* $DRIVE_OUTPUTS_DIR\n",
        "print(f'DRIVE_OUTPUTS_DIR = {DRIVE_OUTPUTS_DIR}')\n",
        "!ls -la $DRIVE_OUTPUTS_DIR\n"
      ],
      "metadata": {
        "id": "Se5Ggzi2Q4NS"
      },
      "execution_count": null,
      "outputs": []
    },
    {
      "cell_type": "markdown",
      "source": [
        "## Generate new samples based on the dataset used in train and the model"
      ],
      "metadata": {
        "id": "ajfeYCM0I_zL"
      }
    },
    {
      "cell_type": "code",
      "source": [
        "# copy code to colab host\n",
        "!cp -R $DRIVE_ROOT_DIR/* ."
      ],
      "metadata": {
        "id": "cVRaAO6BN-U-"
      },
      "execution_count": null,
      "outputs": []
    },
    {
      "cell_type": "code",
      "source": [
        "#Train on limited dataset\n",
        "\n",
        "!python generate.py --model_type gp-vae --data_type hmnist --exp_name reproduce_hmnist --seed 123 --testing --banded_covar --latent_dim 256 --encoder_sizes=256,256 --decoder_sizes=256,256,256 --window_size 3 --sigma 1 --length_scale 2 --beta 0.8 --num_epochs 20 --base_dir $OUTPUTS_DIR"
      ],
      "metadata": {
        "id": "c6bvmGNwIxGW"
      },
      "execution_count": null,
      "outputs": []
    },
    {
      "cell_type": "code",
      "source": [
        "# Copy trained models back to drive\n",
        "!cp -R $OUTPUTS_DIR/generated_data $DRIVE_OUTPUTS_DIR\n",
        "print(f'DRIVE_OUTPUTS_DIR = {DRIVE_OUTPUTS_DIR}')\n",
        "!ls -la $DRIVE_OUTPUTS_DIR/generated_data\n",
        "\n"
      ],
      "metadata": {
        "id": "7m2_pd0INqMT"
      },
      "execution_count": null,
      "outputs": []
    }
  ]
}