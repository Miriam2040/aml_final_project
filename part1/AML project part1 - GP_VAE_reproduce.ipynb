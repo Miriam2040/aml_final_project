{
  "nbformat": 4,
  "nbformat_minor": 0,
  "metadata": {
    "colab": {
      "name": "GP-VAE.ipynb",
      "provenance": [],
      "collapsed_sections": [],
      "machine_shape": "hm"
    },
    "kernelspec": {
      "name": "python3",
      "display_name": "Python 3"
    },
    "language_info": {
      "name": "python"
    },
    "accelerator": "GPU",
    "gpuClass": "standard"
  },
  "cells": [
    {
      "cell_type": "markdown",
      "source": [
        "# Reproduce GP-VAE\n",
        "## Instructions for use:\n",
        "1. Clone the original GP-VAE repo (https://github.com/ratschlab/GP-VAE) to your google drive\n",
        "2. Place this notebook in your google drive\n",
        "3. Update the ROOT_PATH to the repo folder in your g drive \n",
        "4. **Only for the first time you run on a colab host**: perform initial installations and fixes:\n",
        "  * Un-Comment code cell 2\n",
        "  * Execute code cells 1, 2 \n",
        "  * Comment cell 2 back\n",
        "  * Restart the host\n",
        "5. Run the notebook\n",
        "\n",
        "**Note**: The train / test outputs (model, results) will be copied into the repository clone under 'model' folder in the end, as intended by the original writers."
      ],
      "metadata": {
        "id": "IvAhUzMhgA38"
      }
    },
    {
      "cell_type": "code",
      "execution_count": null,
      "metadata": {
        "colab": {
          "base_uri": "https://localhost:8080/"
        },
        "id": "WjLpdDbq8J2L",
        "outputId": "c3f0746d-b65f-449b-ee4c-c5ab6af9812d"
      },
      "outputs": [
        {
          "output_type": "stream",
          "name": "stdout",
          "text": [
            "Drive already mounted at /content/drive; to attempt to forcibly remount, call drive.mount(\"/content/drive\", force_remount=True).\n"
          ]
        }
      ],
      "source": [
        "from pathlib import Path\n",
        "from google.colab import drive\n",
        "\n",
        "drive.mount('/content/drive')\n",
        "ROOT_DIR = Path('/content/drive/MyDrive/colab_data/aml_project/GP-VAE')\n",
        "OUTPUT_DIR = ROOT_DIR / Path('output')\n",
        "\n",
        "# Path(OUTPUT_DIR).mkdir(parents=True, exist_ok=True)\n",
        "# print(f'output_dir = {OUTPUT_DIR}, exists = {Path.exists(OUTPUT_DIR)}')\n",
        "\n",
        "# !ls -la $ROOT_DIR"
      ]
    },
    {
      "cell_type": "markdown",
      "source": [
        "### Run the below cell only once per new host in Colab, then comment it out."
      ],
      "metadata": {
        "id": "0JfOmYx5g_74"
      }
    },
    {
      "cell_type": "code",
      "source": [
        "# # Run this cell once for a new host, then comment this cell, restart the host, and rerun all\n",
        "# #---------------------------------------------------------------------------------\n",
        "\n",
        "# # copy github repo to colab host\n",
        "# !cp -R $ROOT_DIR/* .\n",
        "\n",
        "# # Update data download scripts\n",
        "# !sudo apt-get install dos2unix\n",
        "# !dos2unix data/*.sh\n",
        "# !chmod +x data/*.sh\n",
        "# !ls -la data\n",
        "\n",
        "# # reinstall old packages for old code\n",
        "# !pip install -r requirements.txt\n",
        "\n",
        "\n"
      ],
      "metadata": {
        "id": "Sxfzj6mC_-78"
      },
      "execution_count": null,
      "outputs": []
    },
    {
      "cell_type": "code",
      "source": [
        "# Reprodice hmnist\n",
        "!data/load_hmnist.sh\n",
        "!python train.py --model_type gp-vae --data_type hmnist --exp_name reproduce_hmnist --seed 111 --testing --banded_covar --latent_dim 256 --encoder_sizes=256,256 --decoder_sizes=256,256,256 --window_size 3 --sigma 1 --length_scale 2 --beta 0.8 --num_epochs 20  \n"
      ],
      "metadata": {
        "colab": {
          "base_uri": "https://localhost:8080/"
        },
        "id": "VegyQpEW9ZQT",
        "outputId": "c91d0592-919b-44bc-93a7-3b0fdc1944dc"
      },
      "execution_count": null,
      "outputs": [
        {
          "metadata": {
            "tags": null
          },
          "name": "stdout",
          "output_type": "stream",
          "text": [
            "--2022-07-14 03:43:18--  https://www.dropbox.com/s/xzhelx89bzpkkvq/hmnist_mnar.npz?dl=1\n",
            "Resolving www.dropbox.com (www.dropbox.com)... 162.125.85.18, 2620:100:6017:18::a27d:212\n",
            "Connecting to www.dropbox.com (www.dropbox.com)|162.125.85.18|:443... connected.\n",
            "HTTP request sent, awaiting response... 301 Moved Permanently\n",
            "Location: /s/dl/xzhelx89bzpkkvq/hmnist_mnar.npz [following]\n",
            "--2022-07-14 03:43:18--  https://www.dropbox.com/s/dl/xzhelx89bzpkkvq/hmnist_mnar.npz\n",
            "Reusing existing connection to www.dropbox.com:443.\n",
            "HTTP request sent, awaiting response... 302 Found\n",
            "Location: https://ucbb7823990f8279c79f030d27fc.dl.dropboxusercontent.com/cd/0/get/BpBxOMHESYJvXveeJHas_qdi9NXQeqYvrUT-lKddhW54fWndI4r_JfchSj58LRw5zWhDTnYfgnikgM89Z4fPmK1HB2EXgGMtHfQj13bo8WCGhKaiTVbTM3m_RmCfSeZO10EyweJ8pXUeVw1qAjnQo2kBP_gEYiWuRIiod4gAqW8kYL0sh3SYBUs7e8xeGs_HVKs/file?dl=1# [following]\n",
            "--2022-07-14 03:43:19--  https://ucbb7823990f8279c79f030d27fc.dl.dropboxusercontent.com/cd/0/get/BpBxOMHESYJvXveeJHas_qdi9NXQeqYvrUT-lKddhW54fWndI4r_JfchSj58LRw5zWhDTnYfgnikgM89Z4fPmK1HB2EXgGMtHfQj13bo8WCGhKaiTVbTM3m_RmCfSeZO10EyweJ8pXUeVw1qAjnQo2kBP_gEYiWuRIiod4gAqW8kYL0sh3SYBUs7e8xeGs_HVKs/file?dl=1\n",
            "Resolving ucbb7823990f8279c79f030d27fc.dl.dropboxusercontent.com (ucbb7823990f8279c79f030d27fc.dl.dropboxusercontent.com)... 162.125.81.15, 2620:100:6017:15::a27d:20f\n",
            "Connecting to ucbb7823990f8279c79f030d27fc.dl.dropboxusercontent.com (ucbb7823990f8279c79f030d27fc.dl.dropboxusercontent.com)|162.125.81.15|:443... connected.\n",
            "HTTP request sent, awaiting response... 200 OK\n",
            "Length: 6585672090 (6.1G) [application/binary]\n",
            "Saving to: ‘data/hmnist/hmnist_mnar.npz’\n",
            "\n",
            "data/hmnist/hmnist_ 100%[===================>]   6.13G  10.9MB/s    in 7m 38s  \n",
            "\n",
            "2022-07-14 03:50:59 (13.7 MB/s) - ‘data/hmnist/hmnist_mnar.npz’ saved [6585672090/6585672090]\n",
            "\n",
            "Testing:  True \t Seed: 111\n",
            "Full exp name:  220714_reproduce_hmnist\n",
            "tcmalloc: large alloc 1881604096 bytes == 0x7388000 @  0x7f00251ec1e7 0x7f0022cb5cf1 0x7f0022d1a7c8 0x7f0022cb94f1 0x5947d6 0x548cc1 0x5127f1 0x549576 0x593fce 0x548ae9 0x5127f1 0x4bc98a 0x533274 0x4d3969 0x512147 0x549e0e 0x593fce 0x5118f8 0x593dd7 0x5118f8 0x549576 0x593fce 0x548ae9 0x51566f 0x549576 0x604173 0x5f5506 0x5f8c6c 0x5f9206 0x64faf2 0x64fc4e\n",
            "tcmalloc: large alloc 1881604096 bytes == 0x776aa000 @  0x7f00251ec1e7 0x7f0022cb5cf1 0x7f0022d1a7c8 0x7f0022cb94f1 0x5947d6 0x548cc1 0x5127f1 0x549576 0x593fce 0x548ae9 0x5127f1 0x4bc98a 0x533274 0x4d3969 0x512147 0x549e0e 0x593fce 0x5118f8 0x593dd7 0x5118f8 0x549576 0x593fce 0x548ae9 0x51566f 0x549576 0x604173 0x5f5506 0x5f8c6c 0x5f9206 0x64faf2 0x64fc4e\n",
            "tcmalloc: large alloc 1881604096 bytes == 0xe791a000 @  0x7f00251ec1e7 0x7f0022cb5cf1 0x7f0022d1a7c8 0x7f0022cb94f1 0x5947d6 0x548cc1 0x5127f1 0x549576 0x593fce 0x548ae9 0x5127f1 0x4bc98a 0x533274 0x4d3969 0x512147 0x549e0e 0x593fce 0x5118f8 0x593dd7 0x5118f8 0x549576 0x593fce 0x548ae9 0x51566f 0x549576 0x604173 0x5f5506 0x5f8c6c 0x5f9206 0x64faf2 0x64fc4e\n",
            "2022-07-14 03:51:12.001357: I tensorflow/stream_executor/platform/default/dso_loader.cc:44] Successfully opened dynamic library libcuda.so.1\n",
            "2022-07-14 03:51:12.050489: I tensorflow/stream_executor/cuda/cuda_gpu_executor.cc:983] successful NUMA node read from SysFS had negative value (-1), but there must be at least one NUMA node, so returning NUMA node zero\n",
            "2022-07-14 03:51:12.051098: I tensorflow/core/common_runtime/gpu/gpu_device.cc:1618] Found device 0 with properties: \n",
            "name: Tesla P100-PCIE-16GB major: 6 minor: 0 memoryClockRate(GHz): 1.3285\n",
            "pciBusID: 0000:00:04.0\n",
            "2022-07-14 03:51:12.063703: I tensorflow/stream_executor/platform/default/dso_loader.cc:44] Successfully opened dynamic library libcudart.so.10.0\n",
            "2022-07-14 03:51:12.248890: I tensorflow/stream_executor/platform/default/dso_loader.cc:44] Successfully opened dynamic library libcublas.so.10.0\n",
            "2022-07-14 03:51:12.320899: I tensorflow/stream_executor/platform/default/dso_loader.cc:44] Successfully opened dynamic library libcufft.so.10.0\n",
            "2022-07-14 03:51:12.341301: I tensorflow/stream_executor/platform/default/dso_loader.cc:44] Successfully opened dynamic library libcurand.so.10.0\n",
            "2022-07-14 03:51:12.523006: I tensorflow/stream_executor/platform/default/dso_loader.cc:44] Successfully opened dynamic library libcusolver.so.10.0\n",
            "2022-07-14 03:51:12.644052: I tensorflow/stream_executor/platform/default/dso_loader.cc:44] Successfully opened dynamic library libcusparse.so.10.0\n",
            "2022-07-14 03:51:13.003402: I tensorflow/stream_executor/platform/default/dso_loader.cc:44] Successfully opened dynamic library libcudnn.so.7\n",
            "2022-07-14 03:51:13.003568: I tensorflow/stream_executor/cuda/cuda_gpu_executor.cc:983] successful NUMA node read from SysFS had negative value (-1), but there must be at least one NUMA node, so returning NUMA node zero\n",
            "2022-07-14 03:51:13.004313: I tensorflow/stream_executor/cuda/cuda_gpu_executor.cc:983] successful NUMA node read from SysFS had negative value (-1), but there must be at least one NUMA node, so returning NUMA node zero\n",
            "2022-07-14 03:51:13.004848: I tensorflow/core/common_runtime/gpu/gpu_device.cc:1746] Adding visible gpu devices: 0\n",
            "2022-07-14 03:51:13.006102: I tensorflow/core/platform/cpu_feature_guard.cc:142] Your CPU supports instructions that this TensorFlow binary was not compiled to use: AVX2 FMA\n",
            "2022-07-14 03:51:13.010775: I tensorflow/core/platform/profile_utils/cpu_utils.cc:94] CPU Frequency: 2199995000 Hz\n",
            "2022-07-14 03:51:13.011061: I tensorflow/compiler/xla/service/service.cc:168] XLA service 0x32d2a00 initialized for platform Host (this does not guarantee that XLA will be used). Devices:\n",
            "2022-07-14 03:51:13.011093: I tensorflow/compiler/xla/service/service.cc:176]   StreamExecutor device (0): Host, Default Version\n",
            "2022-07-14 03:51:13.261459: I tensorflow/stream_executor/cuda/cuda_gpu_executor.cc:983] successful NUMA node read from SysFS had negative value (-1), but there must be at least one NUMA node, so returning NUMA node zero\n",
            "2022-07-14 03:51:13.262346: I tensorflow/compiler/xla/service/service.cc:168] XLA service 0x32d2840 initialized for platform CUDA (this does not guarantee that XLA will be used). Devices:\n",
            "2022-07-14 03:51:13.262384: I tensorflow/compiler/xla/service/service.cc:176]   StreamExecutor device (0): Tesla P100-PCIE-16GB, Compute Capability 6.0\n",
            "2022-07-14 03:51:13.262588: I tensorflow/stream_executor/cuda/cuda_gpu_executor.cc:983] successful NUMA node read from SysFS had negative value (-1), but there must be at least one NUMA node, so returning NUMA node zero\n",
            "2022-07-14 03:51:13.263157: I tensorflow/core/common_runtime/gpu/gpu_device.cc:1618] Found device 0 with properties: \n",
            "name: Tesla P100-PCIE-16GB major: 6 minor: 0 memoryClockRate(GHz): 1.3285\n",
            "pciBusID: 0000:00:04.0\n",
            "2022-07-14 03:51:13.263217: I tensorflow/stream_executor/platform/default/dso_loader.cc:44] Successfully opened dynamic library libcudart.so.10.0\n",
            "2022-07-14 03:51:13.263234: I tensorflow/stream_executor/platform/default/dso_loader.cc:44] Successfully opened dynamic library libcublas.so.10.0\n",
            "2022-07-14 03:51:13.263246: I tensorflow/stream_executor/platform/default/dso_loader.cc:44] Successfully opened dynamic library libcufft.so.10.0\n",
            "2022-07-14 03:51:13.263259: I tensorflow/stream_executor/platform/default/dso_loader.cc:44] Successfully opened dynamic library libcurand.so.10.0\n",
            "2022-07-14 03:51:13.263270: I tensorflow/stream_executor/platform/default/dso_loader.cc:44] Successfully opened dynamic library libcusolver.so.10.0\n",
            "2022-07-14 03:51:13.263282: I tensorflow/stream_executor/platform/default/dso_loader.cc:44] Successfully opened dynamic library libcusparse.so.10.0\n",
            "2022-07-14 03:51:13.263294: I tensorflow/stream_executor/platform/default/dso_loader.cc:44] Successfully opened dynamic library libcudnn.so.7\n",
            "2022-07-14 03:51:13.263352: I tensorflow/stream_executor/cuda/cuda_gpu_executor.cc:983] successful NUMA node read from SysFS had negative value (-1), but there must be at least one NUMA node, so returning NUMA node zero\n",
            "2022-07-14 03:51:13.263912: I tensorflow/stream_executor/cuda/cuda_gpu_executor.cc:983] successful NUMA node read from SysFS had negative value (-1), but there must be at least one NUMA node, so returning NUMA node zero\n",
            "2022-07-14 03:51:13.264420: I tensorflow/core/common_runtime/gpu/gpu_device.cc:1746] Adding visible gpu devices: 0\n",
            "2022-07-14 03:51:13.264657: I tensorflow/stream_executor/platform/default/dso_loader.cc:44] Successfully opened dynamic library libcudart.so.10.0\n",
            "2022-07-14 03:51:13.266088: I tensorflow/core/common_runtime/gpu/gpu_device.cc:1159] Device interconnect StreamExecutor with strength 1 edge matrix:\n",
            "2022-07-14 03:51:13.266120: I tensorflow/core/common_runtime/gpu/gpu_device.cc:1165]      0 \n",
            "2022-07-14 03:51:13.266132: I tensorflow/core/common_runtime/gpu/gpu_device.cc:1178] 0:   N \n",
            "2022-07-14 03:51:13.266510: I tensorflow/stream_executor/cuda/cuda_gpu_executor.cc:983] successful NUMA node read from SysFS had negative value (-1), but there must be at least one NUMA node, so returning NUMA node zero\n",
            "2022-07-14 03:51:13.267111: I tensorflow/stream_executor/cuda/cuda_gpu_executor.cc:983] successful NUMA node read from SysFS had negative value (-1), but there must be at least one NUMA node, so returning NUMA node zero\n",
            "2022-07-14 03:51:13.267765: W tensorflow/core/common_runtime/gpu/gpu_bfc_allocator.cc:39] Overriding allow_growth setting because the TF_FORCE_GPU_ALLOW_GROWTH environment variable is set. Original config value was 0.\n",
            "2022-07-14 03:51:13.267809: I tensorflow/core/common_runtime/gpu/gpu_device.cc:1304] Created TensorFlow device (/job:localhost/replica:0/task:0/device:GPU:0 with 15224 MB memory) -> physical GPU (device: 0, name: Tesla P100-PCIE-16GB, pci bus id: 0000:00:04.0, compute capability: 6.0)\n",
            "W0714 03:51:13.636663 139638603892608 deprecation.py:323] From /usr/local/lib/python3.7/dist-packages/tensorflow_core/python/data/util/random_seed.py:58: where (from tensorflow.python.ops.array_ops) is deprecated and will be removed in a future version.\n",
            "Instructions for updating:\n",
            "Use tf.where in 2.0, which has the same broadcast rule as np.where\n",
            "2022-07-14 03:51:13.640189: W tensorflow/core/framework/cpu_allocator_impl.cc:81] Allocation of 313600000 exceeds 10% of system memory.\n",
            "2022-07-14 03:51:13.902348: W tensorflow/core/framework/cpu_allocator_impl.cc:81] Allocation of 313600000 exceeds 10% of system memory.\n",
            "Using CNN preprocessor\n",
            "2022-07-14 03:51:14.285770: I tensorflow/stream_executor/cuda/cuda_gpu_executor.cc:983] successful NUMA node read from SysFS had negative value (-1), but there must be at least one NUMA node, so returning NUMA node zero\n",
            "2022-07-14 03:51:14.286408: I tensorflow/core/common_runtime/gpu/gpu_device.cc:1618] Found device 0 with properties: \n",
            "name: Tesla P100-PCIE-16GB major: 6 minor: 0 memoryClockRate(GHz): 1.3285\n",
            "pciBusID: 0000:00:04.0\n",
            "2022-07-14 03:51:14.286481: I tensorflow/stream_executor/platform/default/dso_loader.cc:44] Successfully opened dynamic library libcudart.so.10.0\n",
            "2022-07-14 03:51:14.286497: I tensorflow/stream_executor/platform/default/dso_loader.cc:44] Successfully opened dynamic library libcublas.so.10.0\n",
            "2022-07-14 03:51:14.286511: I tensorflow/stream_executor/platform/default/dso_loader.cc:44] Successfully opened dynamic library libcufft.so.10.0\n",
            "2022-07-14 03:51:14.286524: I tensorflow/stream_executor/platform/default/dso_loader.cc:44] Successfully opened dynamic library libcurand.so.10.0\n",
            "2022-07-14 03:51:14.286537: I tensorflow/stream_executor/platform/default/dso_loader.cc:44] Successfully opened dynamic library libcusolver.so.10.0\n",
            "2022-07-14 03:51:14.286551: I tensorflow/stream_executor/platform/default/dso_loader.cc:44] Successfully opened dynamic library libcusparse.so.10.0\n",
            "2022-07-14 03:51:14.286566: I tensorflow/stream_executor/platform/default/dso_loader.cc:44] Successfully opened dynamic library libcudnn.so.7\n",
            "2022-07-14 03:51:14.286646: I tensorflow/stream_executor/cuda/cuda_gpu_executor.cc:983] successful NUMA node read from SysFS had negative value (-1), but there must be at least one NUMA node, so returning NUMA node zero\n",
            "2022-07-14 03:51:14.287272: I tensorflow/stream_executor/cuda/cuda_gpu_executor.cc:983] successful NUMA node read from SysFS had negative value (-1), but there must be at least one NUMA node, so returning NUMA node zero\n",
            "2022-07-14 03:51:14.287886: I tensorflow/core/common_runtime/gpu/gpu_device.cc:1746] Adding visible gpu devices: 0\n",
            "2022-07-14 03:51:14.287936: I tensorflow/core/common_runtime/gpu/gpu_device.cc:1159] Device interconnect StreamExecutor with strength 1 edge matrix:\n",
            "2022-07-14 03:51:14.287948: I tensorflow/core/common_runtime/gpu/gpu_device.cc:1165]      0 \n",
            "2022-07-14 03:51:14.287954: I tensorflow/core/common_runtime/gpu/gpu_device.cc:1178] 0:   N \n",
            "2022-07-14 03:51:14.288030: I tensorflow/stream_executor/cuda/cuda_gpu_executor.cc:983] successful NUMA node read from SysFS had negative value (-1), but there must be at least one NUMA node, so returning NUMA node zero\n",
            "2022-07-14 03:51:14.288582: I tensorflow/stream_executor/cuda/cuda_gpu_executor.cc:983] successful NUMA node read from SysFS had negative value (-1), but there must be at least one NUMA node, so returning NUMA node zero\n",
            "2022-07-14 03:51:14.289104: I tensorflow/core/common_runtime/gpu/gpu_device.cc:1304] Created TensorFlow device (/device:GPU:0 with 15224 MB memory) -> physical GPU (device: 0, name: Tesla P100-PCIE-16GB, pci bus id: 0000:00:04.0, compute capability: 6.0)\n",
            "GPU support:  True\n",
            "Training...\n",
            "2022-07-14 03:51:14.299222: I tensorflow/core/kernels/cuda_solvers.cc:159] Creating CudaSolver handles for stream 0x190301a30\n",
            "2022-07-14 03:51:14.299286: I tensorflow/stream_executor/platform/default/dso_loader.cc:44] Successfully opened dynamic library libcusolver.so.10.0\n",
            "2022-07-14 03:51:15.533975: I tensorflow/stream_executor/platform/default/dso_loader.cc:44] Successfully opened dynamic library libcublas.so.10.0\n",
            "2022-07-14 03:51:16.206350: I tensorflow/stream_executor/platform/default/dso_loader.cc:44] Successfully opened dynamic library libcudnn.so.7\n",
            "2022-07-14 03:51:19.104807: I tensorflow/stream_executor/platform/default/dso_loader.cc:44] Successfully opened dynamic library libcublas.so.10.0\n",
            "Model: \"sequential_1\"\n",
            "_________________________________________________________________\n",
            "Layer (type)                 Output Shape              Param #   \n",
            "=================================================================\n",
            "conv1d (Conv1D)              multiple                  602368    \n",
            "_________________________________________________________________\n",
            "dense (Dense)                multiple                  65792     \n",
            "_________________________________________________________________\n",
            "dense_1 (Dense)              multiple                  197376    \n",
            "=================================================================\n",
            "Total params: 865,536\n",
            "Trainable params: 865,536\n",
            "Non-trainable params: 0\n",
            "_________________________________________________________________\n",
            "Encoder:  None\n",
            "Model: \"sequential_2\"\n",
            "_________________________________________________________________\n",
            "Layer (type)                 Output Shape              Param #   \n",
            "=================================================================\n",
            "dense_2 (Dense)              multiple                  65792     \n",
            "_________________________________________________________________\n",
            "dense_3 (Dense)              multiple                  65792     \n",
            "_________________________________________________________________\n",
            "dense_4 (Dense)              multiple                  65792     \n",
            "_________________________________________________________________\n",
            "dense_5 (Dense)              multiple                  201488    \n",
            "=================================================================\n",
            "Total params: 398,864\n",
            "Trainable params: 398,864\n",
            "Non-trainable params: 0\n",
            "_________________________________________________________________\n",
            "Decoder:  None\n",
            "Model: \"sequential\"\n",
            "_________________________________________________________________\n",
            "Layer (type)                 Output Shape              Param #   \n",
            "=================================================================\n",
            "conv2d (Conv2D)              multiple                  2560      \n",
            "_________________________________________________________________\n",
            "conv2d_1 (Conv2D)            multiple                  2305      \n",
            "=================================================================\n",
            "Total params: 4,865\n",
            "Trainable params: 4,865\n",
            "Non-trainable params: 0\n",
            "_________________________________________________________________\n",
            "Preprocessor:  None\n",
            "W0714 03:51:19.197376 139638603892608 lazy_loader.py:50] \n",
            "The TensorFlow contrib module will not be included in TensorFlow 2.0.\n",
            "For more information, please see:\n",
            "  * https://github.com/tensorflow/community/blob/master/rfcs/20180907-contrib-sunset.md\n",
            "  * https://github.com/tensorflow/addons\n",
            "  * https://github.com/tensorflow/io (for I/O related ops)\n",
            "If you depend on functionality not listed there, please file an issue.\n",
            "\n",
            "2022-07-14 03:51:19.701653: W tensorflow/core/framework/cpu_allocator_impl.cc:81] Allocation of 1881600000 exceeds 10% of system memory.\n",
            "tcmalloc: large alloc 1881604096 bytes == 0x7efe99d38000 @  0x7f00251ceb6b 0x7f00251ee379 0x7effd4a8eee7 0x7effd487c51f 0x7effd4747e28 0x7effdba82e2f 0x7effdba87ce1 0x7effdba78ac5 0x7effdba7a68c 0x7effdaab5a2a 0x7effd469b7a0 0x7effd469bb21 0x7effdacec9b9 0x7effdaced3fe 0x7effdaccf912 0x7effdacd006f 0x7effdacca30c 0x7effdaccbf2f 0x7effd80f7415 0x7effd808f18b 0x59371f 0x548c51 0x51566f 0x549576 0x4bca8a 0x5134a6 0x549e0e 0x4bcb19 0x532b86 0x594a96 0x515600\n",
            "2022-07-14 03:51:21.270926: W tensorflow/core/framework/cpu_allocator_impl.cc:81] Allocation of 1881600000 exceeds 10% of system memory.\n",
            "tcmalloc: large alloc 1881604096 bytes == 0x7efe29ac8000 @  0x7f00251ceb6b 0x7f00251ee379 0x7effd4a8eee7 0x7effd487c51f 0x7effd4747e28 0x7effdba82e2f 0x7effdba87ce1 0x7effdba78ac5 0x7effdba7a68c 0x7effdaab5a2a 0x7effd469b7a0 0x7effd469bb21 0x7effdacec9b9 0x7effdaced3fe 0x7effdaccf912 0x7effdacd006f 0x7effdacca30c 0x7effdaccbf2f 0x7effd80f7415 0x7effd808f18b 0x59371f 0x548c51 0x51566f 0x549576 0x4bca8a 0x5134a6 0x549e0e 0x4bcb19 0x532b86 0x594a96 0x515600\n",
            "================================================\n",
            "Learning rate: 0.001 | Global gradient norm: 510.80\n",
            "Step 0) Time = 5.345925\n",
            "Train loss = 7984.043 | NLL = 2914.997 | KL = 6336.308\n",
            "Validation loss = 8011.237 | NLL = 2940.116 | KL = 6338.900\n",
            "================================================\n",
            "Learning rate: 0.001 | Global gradient norm: 4239.55\n",
            "Step 937) Time = 492.885135\n",
            "Train loss = 1451.134 | NLL = 408.318 | KL = 1303.519\n",
            "Validation loss = 1436.469 | NLL = 395.267 | KL = 1301.502\n",
            "================================================\n",
            "Learning rate: 0.001 | Global gradient norm: 993.68\n",
            "Step 1874) Time = 493.644159\n",
            "Train loss = 1389.672 | NLL = 336.196 | KL = 1316.845\n",
            "Validation loss = 1369.778 | NLL = 318.446 | KL = 1314.164\n",
            "================================================\n",
            "Learning rate: 0.001 | Global gradient norm: 416.08\n",
            "Step 2811) Time = 493.983143\n",
            "Train loss = 1348.059 | NLL = 292.570 | KL = 1319.362\n",
            "Validation loss = 1336.963 | NLL = 283.138 | KL = 1317.282\n",
            "================================================\n",
            "Learning rate: 0.001 | Global gradient norm: 238.06\n",
            "Step 3748) Time = 493.756987\n",
            "Train loss = 1377.510 | NLL = 314.628 | KL = 1328.602\n",
            "Validation loss = 1342.896 | NLL = 283.272 | KL = 1324.530\n",
            "================================================\n",
            "Learning rate: 0.001 | Global gradient norm: 382.64\n",
            "Step 4685) Time = 493.224984\n",
            "Train loss = 1331.559 | NLL = 271.734 | KL = 1324.781\n",
            "Validation loss = 1321.160 | NLL = 262.323 | KL = 1323.546\n",
            "================================================\n",
            "Learning rate: 0.001 | Global gradient norm: 266.18\n",
            "Step 5622) Time = 493.332813\n",
            "Train loss = 1335.063 | NLL = 268.385 | KL = 1333.348\n",
            "Validation loss = 1331.727 | NLL = 266.740 | KL = 1331.233\n",
            "================================================\n",
            "Learning rate: 0.001 | Global gradient norm: 425.87\n",
            "Step 6559) Time = 494.577488\n",
            "Train loss = 1321.777 | NLL = 256.202 | KL = 1331.969\n",
            "Validation loss = 1326.858 | NLL = 259.848 | KL = 1333.763\n",
            "================================================\n",
            "Learning rate: 0.001 | Global gradient norm: 515.26\n",
            "Step 7496) Time = 494.684068\n",
            "Train loss = 1326.355 | NLL = 256.273 | KL = 1337.602\n",
            "Validation loss = 1334.550 | NLL = 266.055 | KL = 1335.619\n",
            "================================================\n",
            "Learning rate: 0.001 | Global gradient norm: 1232.39\n",
            "Step 8433) Time = 495.085833\n",
            "Train loss = 1320.270 | NLL = 250.250 | KL = 1337.525\n",
            "Validation loss = 1327.260 | NLL = 257.333 | KL = 1337.409\n",
            "================================================\n",
            "Learning rate: 0.001 | Global gradient norm: 1028.98\n",
            "Step 9370) Time = 495.411531\n",
            "Train loss = 1308.640 | NLL = 235.861 | KL = 1340.974\n",
            "Validation loss = 1306.849 | NLL = 235.686 | KL = 1338.954\n",
            "================================================\n",
            "Learning rate: 0.001 | Global gradient norm: 431.24\n",
            "Step 10307) Time = 496.735009\n",
            "Train loss = 1318.469 | NLL = 240.806 | KL = 1347.078\n",
            "Validation loss = 1311.623 | NLL = 235.502 | KL = 1345.150\n",
            "================================================\n",
            "Learning rate: 0.001 | Global gradient norm: 177.25\n",
            "Step 11244) Time = 495.712606\n",
            "Train loss = 1301.831 | NLL = 228.966 | KL = 1341.082\n",
            "Validation loss = 1310.621 | NLL = 237.141 | KL = 1341.850\n",
            "================================================\n",
            "Learning rate: 0.001 | Global gradient norm: 4162.44\n",
            "Step 12181) Time = 495.080473\n",
            "Train loss = 1321.476 | NLL = 247.397 | KL = 1342.599\n",
            "Validation loss = 1313.554 | NLL = 240.912 | KL = 1340.802\n",
            "================================================\n",
            "Learning rate: 0.001 | Global gradient norm: 514.24\n",
            "Step 13118) Time = 496.123695\n",
            "Train loss = 1313.007 | NLL = 238.224 | KL = 1343.480\n",
            "Validation loss = 1305.845 | NLL = 234.045 | KL = 1339.750\n",
            "================================================\n",
            "Learning rate: 0.001 | Global gradient norm: 152.01\n",
            "Step 14055) Time = 495.575353\n",
            "Train loss = 1300.368 | NLL = 224.786 | KL = 1344.477\n",
            "Validation loss = 1295.017 | NLL = 221.208 | KL = 1342.261\n",
            "================================================\n",
            "Learning rate: 0.001 | Global gradient norm: 425.37\n",
            "Step 14992) Time = 496.530570\n",
            "Train loss = 1311.204 | NLL = 232.842 | KL = 1347.952\n",
            "Validation loss = 1306.092 | NLL = 231.886 | KL = 1342.757\n",
            "================================================\n",
            "Learning rate: 0.001 | Global gradient norm: 1200.26\n",
            "Step 15929) Time = 496.406747\n",
            "Train loss = 1309.382 | NLL = 231.578 | KL = 1347.256\n",
            "Validation loss = 1304.858 | NLL = 229.710 | KL = 1343.935\n",
            "================================================\n",
            "Learning rate: 0.001 | Global gradient norm: 301.05\n",
            "Step 16866) Time = 495.657760\n",
            "Train loss = 1298.251 | NLL = 221.728 | KL = 1345.653\n",
            "Validation loss = 1305.113 | NLL = 230.591 | KL = 1343.152\n"
          ]
        }
      ]
    },
    {
      "cell_type": "code",
      "source": [
        "# Copy trained models back to drive\n",
        "!cp -R models/* $ROOT_DIR/models\n",
        "!ls -la $ROOT_DIR/models"
      ],
      "metadata": {
        "id": "Se5Ggzi2Q4NS"
      },
      "execution_count": null,
      "outputs": []
    },
    {
      "cell_type": "code",
      "source": [
        "#Reproduce Sprites\n",
        "!data/load_sprites.sh\n",
        "!python train.py --model_type gp-vae --data_type sprites --exp_name reproduce_sprites --seed $RANDOM --testing --banded_covar --latent_dim 256 --encoder_sizes=32,256,256 --decoder_sizes=256,256,256 --window_size 3 --sigma 1 --length_scale 2 --beta 0.1 --num_epochs 20"
      ],
      "metadata": {
        "id": "AxQF2TDFwkgd"
      },
      "execution_count": null,
      "outputs": []
    },
    {
      "cell_type": "code",
      "source": [
        "# Copy trained models back to drive\n",
        "!cp -R models/* $ROOT_DIR/models\n",
        "!ls -la $ROOT_DIR/models"
      ],
      "metadata": {
        "id": "9CjYpsMFy-gt"
      },
      "execution_count": null,
      "outputs": []
    },
    {
      "cell_type": "code",
      "source": [
        "#Reproduce Physionet\n",
        "!data/load_physionet.sh\n",
        "!python train.py --model_type gp-vae --data_type physionet --exp_name reproduce_physionet --seed $RANDOM --testing --banded_covar --latent_dim 35 --encoder_sizes=128,128 --decoder_sizes=256,256 --window_size 24 --sigma 1.005 --length_scale 7 --beta 0.2 --num_epochs 40"
      ],
      "metadata": {
        "id": "elZKZRojy_eE"
      },
      "execution_count": null,
      "outputs": []
    },
    {
      "cell_type": "code",
      "source": [
        "# Copy trained models back to drive\n",
        "!cp -R models/* $ROOT_DIR/models\n",
        "!ls -la $ROOT_DIR/models"
      ],
      "metadata": {
        "id": "eyB_Izp-y_mA"
      },
      "execution_count": null,
      "outputs": []
    }
  ]
}
